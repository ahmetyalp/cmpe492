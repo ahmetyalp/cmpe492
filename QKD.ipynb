{
 "cells": [
  {
   "cell_type": "markdown",
   "metadata": {},
   "source": [
    "## Quantum Key Distribution\n",
    "\n",
    "Asja wants to send messages to Balvis who will go abroad but they want to keep touch. But Eve, their curious friend, want to learn what they will talk. Asja and Balvis found a solution called one time padding. Before he leave they randomly produce (for examle by flipping a coin) a binary string with length $n$. Whenever Asja wants to send a message, first she $XOR$ her message with this string and after Belvis has message, he $XOR$ again with the same string. In this situation Eve can't find the message because there are many possible ($2^n$) strings Asja and Balvis can produce by flipping coin.\n",
    "But Asja and Balvis can produce only finite length string so they have to use same keys over and over. Eve can gain some information using some statictical methods after some long time. So this procedure will not safe after sending $n$ bits.\n",
    "\n",
    "Quantum Key Distribution solves this problem. We can use quantum computers to generate new keys even Asja and Balvis far from each other.\n",
    "\n",
    "There are several protocols. We will see BB84."
   ]
  },
  {
   "cell_type": "markdown",
   "metadata": {},
   "source": [
    "## Quantum No Clonning Theorem\n",
    "\n",
    "No-cloning theorem states that it is impossible to create an identical copy of an arbitrary unknown quantum state. Which states that Eve can't make copies of qubits and make measurements after protocol ends.\n",
    "\n"
   ]
  },
  {
   "cell_type": "markdown",
   "metadata": {},
   "source": [
    "Let apply two successive Hadamard gates, and measure. "
   ]
  },
  {
   "cell_type": "code",
   "execution_count": null,
   "metadata": {},
   "outputs": [],
   "source": [
    "from qiskit import QuantumRegister, ClassicalRegister, QuantumCircuit, execute, Aer\n",
    "import numpy as np\n",
    "import random\n",
    "\n",
    "qreg = QuantumRegister(1)\n",
    "creg = ClassicalRegister(1)\n",
    "circ = QuantumCircuit(qreg,creg)\n",
    "\n",
    "circ.h(qreg[0])\n",
    "\n",
    "circ.h(qreg[0])\n",
    "\n",
    "circ.measure(qreg, creg)\n"
   ]
  },
  {
   "cell_type": "code",
   "execution_count": null,
   "metadata": {},
   "outputs": [],
   "source": [
    "circ.draw(output = 'mpl')\n"
   ]
  },
  {
   "cell_type": "code",
   "execution_count": null,
   "metadata": {},
   "outputs": [],
   "source": [
    "job = execute(circ,Aer.get_backend('qasm_simulator'), shots=1024)\n",
    "counts1 = job.result().get_counts(circ)\n",
    "print(counts1)"
   ]
  },
  {
   "cell_type": "markdown",
   "metadata": {},
   "source": [
    "We observe $0$ all time. Let's make a measurement between two Hadamard gates also."
   ]
  },
  {
   "cell_type": "code",
   "execution_count": null,
   "metadata": {},
   "outputs": [],
   "source": [
    "qreg = QuantumRegister(1)\n",
    "creg = ClassicalRegister(1)\n",
    "circ = QuantumCircuit(qreg,creg)\n",
    "\n",
    "circ.h(qreg[0])\n",
    "\n",
    "circ.measure(qreg, creg)\n",
    "\n",
    "circ.h(qreg[0])\n",
    "\n",
    "circ.measure(qreg, creg)\n"
   ]
  },
  {
   "cell_type": "code",
   "execution_count": null,
   "metadata": {},
   "outputs": [],
   "source": [
    "circ.draw(output = 'mpl')\n"
   ]
  },
  {
   "cell_type": "code",
   "execution_count": null,
   "metadata": {},
   "outputs": [],
   "source": [
    "job = execute(circ,Aer.get_backend('qasm_simulator'), shots=1024)\n",
    "counts1 = job.result().get_counts(circ)\n",
    "print(counts1)"
   ]
  },
  {
   "cell_type": "markdown",
   "metadata": {},
   "source": [
    "We see $0$ and $1$ randomly. Eve's measurements can break quantum states."
   ]
  },
  {
   "cell_type": "markdown",
   "metadata": {},
   "source": [
    "## Bell basis\n",
    "\n",
    "Our computational basis is $ \\lvert 0 \\rangle $ and $ \\lvert 1 \\rangle $ . If we apply Hadamard gate we have  $ \\frac{ \\lvert 0 \\rangle + \\lvert 1 \\rangle }{\\sqrt{2}}$ and  $ \\frac{ \\lvert 0 \\rangle - \\lvert 1 \\rangle }{\\sqrt{2}}$ which are orthogonal too. If we think $ \\lvert 0 \\rangle $ and $ \\lvert 1 \\rangle $ as $\\uparrow$ and $\\rightarrow$, then Bell basis is $\\nearrow$ and $\\searrow$"
   ]
  },
  {
   "cell_type": "markdown",
   "metadata": {},
   "source": [
    "## BB48 Protocol\n",
    "\n",
    "Let Asja wants to send $n$ classical bits to Balvis, but they need a key to secure their message. Asja prepares $4n$ qubits by flipping coins. If she sees a tail, qubit remain zero otherwise she sets qubit to one. Then she flips coin again to decide actually what basis she use for every qubit. So Asja have randomly created $0$ or $1$ qubits in Bell or computational basis. Then she sends qubits to Balvis without sending information about initial values and basis. When he recive qubits, he randomly chooses basis and measures them. After measurement Asja and Balvis shares their basis information using classical channels. Approximately Asja and Balvis aggree on half, $2n$, of them. Focus these $2n$ qubits (Asja and Balvis restart all procudure if there are less then $2n$ aggrements). If they make measurenments on same basis, they should have same values on these qubits. But Eve can listen their coumminication. If Eve listens, there is probility greater than zero that Asja and Balvis has different qubits. They share same random $n$ of $2n$ qubits values and then compair with each other, if there is a different qubit then they restart because Eve is listening. If all qubits are same then probabilty that Eve listen them is too low. They use remaning $n$ qubits' valuses as a key.\n",
    "\n",
    "This protocol creates a new key when Asja and Balvis want, so Eve never be able to eavesdropp.\n",
    "\n",
    "* Create quantum circuit with $4*n$ qubits.\n",
    "* Create a random string or array to decide inital values\n",
    "* Create a random string or array to decide which basis Asja use\n",
    "* Create a variable to control wheter Eve is eavesdropping or not, if she is:\n",
    " * Create a random string or array to decide basis\n",
    " * Make a measurenment\n",
    " * Apply same string or array before sending to Balvis\n",
    "* Create a random string or array to decide which basis Balvis use\n",
    "* Make a measurenment\n",
    "* Count qubits which Asja and Balvis use same basis, if it is less than $2*n$ go to step 1\n",
    "* Take random $n$ of these $2n$ qubits and compait their values. If there is a different one, go to step 1\n",
    "* Remaining $n$ qubits' values is our key."
   ]
  },
  {
   "cell_type": "code",
   "execution_count": null,
   "metadata": {},
   "outputs": [],
   "source": [
    "from qiskit import QuantumRegister, ClassicalRegister, QuantumCircuit, execute, Aer\n",
    "import numpy as np\n",
    "import random\n",
    "\n",
    "# Length of message\n",
    "n = 10\n",
    "# Number of qubits for protocol\n",
    "sz = 4*n\n",
    "\n",
    "qreg = QuantumRegister(sz)\n",
    "creg = ClassicalRegister(sz)\n",
    "circ = QuantumCircuit(qreg,creg)\n",
    "\n",
    "# flip coin for initial values\n",
    "arr1 = np.random.randint(2, size=sz)\n",
    "print(\"Asja's initilazion\")\n",
    "print(arr1)\n",
    "\n",
    "# apply x gate for 1s, do nothing for 0s\n",
    "for i in range(sz):\n",
    "    if arr1[i] == 1:\n",
    "        circ.x(qreg[sz-i-1])\n",
    "        \n",
    "# flip coins for Hadamard gates        \n",
    "arr2 = np.random.randint(2, size=sz)\n",
    "print(\"Asja's Gates\")\n",
    "print(arr2)\n",
    "for i in range(sz):\n",
    "    if arr2[i] == 1:\n",
    "        circ.h(qreg[sz-i-1])\n",
    "        \n",
    "# Eve decides randomly to listen or nor        \n",
    "spy = np.random.randint(2)\n",
    "if spy == 1:\n",
    "    # becuse Eve doesn't know which base Asja use she randomly decide that\n",
    "    arr3 = np.random.randint(2, size=sz)\n",
    "    print(\"Eve listens\")\n",
    "    print(\"Eve's Gates\")\n",
    "    print(arr3)\n",
    "    for i in range(sz):\n",
    "        if arr3[i] == 1:\n",
    "            circ.h(qreg[sz-i-1])\n",
    "    # measure all qubits\n",
    "    circ.measure(qreg, creg)\n",
    "    # prepare qubits same basis as she measure\n",
    "    for i in range(sz):\n",
    "        if arr3[i] == 1:\n",
    "            circ.h(qreg[sz-i-1])\n",
    "\n",
    "# Belvis measures with random bases    \n",
    "arr4 = np.random.randint(2, size=sz)\n",
    "print(\"Belvis' Gates\")\n",
    "print(arr4)\n",
    "for i in range(sz):\n",
    "    if arr4[i] == 1:\n",
    "        circ.h(qreg[sz-i-1])\n",
    "\n",
    "# Belvis measures\n",
    "circ.measure(qreg, creg)"
   ]
  },
  {
   "cell_type": "code",
   "execution_count": null,
   "metadata": {},
   "outputs": [],
   "source": [
    "# circ.draw(output = 'mpl')"
   ]
  },
  {
   "cell_type": "code",
   "execution_count": null,
   "metadata": {},
   "outputs": [],
   "source": [
    "job = execute(circ,Aer.get_backend('qasm_simulator'), shots=1)\n",
    "counts1 = job.result().get_counts(circ)\n",
    "print(counts1)"
   ]
  },
  {
   "cell_type": "code",
   "execution_count": null,
   "metadata": {},
   "outputs": [],
   "source": [
    "# because we measure just one time, we have only one possible outcome so this loop iterates only once\n",
    "for result in counts1.keys():\n",
    "    # how many times Asja and Balvis agree on bases\n",
    "    same = 0\n",
    "    # index of qubits that they agree on\n",
    "    indx = []\n",
    "    for i in range(sz):\n",
    "        if arr2[i] == arr4[i]:\n",
    "            same = same + 1\n",
    "            indx.append(i)\n",
    "    if same < 2*n:\n",
    "        print(\"Insufficient qubits, restart the process\")\n",
    "        break\n",
    "    # shuffle to get random 2n qubits and n control qubits\n",
    "    random.shuffle(indx)\n",
    "    # let first n qubits are control bits(because we shuffle whole array first n is also random)\n",
    "    cont = indx[0:n]\n",
    "    # boolean flag to stop process if Eve is listening\n",
    "    b = False\n",
    "    for i in cont:\n",
    "        if int(result[i]) != arr1[i]:\n",
    "            print(\"Eve listens us\")\n",
    "            b = True\n",
    "            break\n",
    "    # Eve is listining so stop the process\n",
    "    if b:\n",
    "        break\n",
    "    # We can reach here if we decide Eve is not listening, check if it is true.\n",
    "    if spy == 1:\n",
    "        print(\"Eve successfuly listens us\")\n",
    "        break\n",
    "    print(\"Key is : \" + str([result[j] for j in indx[n:(2*n)]]))\n",
    "    break"
   ]
  },
  {
   "cell_type": "markdown",
   "metadata": {},
   "source": [
    "## Calculating Probabilty of Asja and Balvis don't Notice Eve\n",
    "\n",
    "Let Eve listens Asja and Balvis. She makes measurements in random basis for every qubit. Because every qubit is independent, lets think of one qubit. We will calculate the probabilty of Balvis measures correct result as Asja send after Eve's observation. Eve measures a qubit with random basis, and initial new qubit with same basis and value as she measured and send to Balvis. If she choose correct basis, Balvis don't notice Eve because she correctly reproduce same state as Asja. But if Eve choose wrong basis there are two situations: Asja choose $+$ and Eve choose $x$ and vice versa. First case, Eve has $ \\lvert 0 \\rangle $ or $ \\lvert 1 \\rangle $ with $\\frac{1}{2}$ probabilty, and she sends qubit after applying Hadamard to Balvis and whatever Eve measure again Balvis has $ \\lvert 0 \\rangle $ or $ \\lvert 1 \\rangle $ with equal probability.\n",
    "\n",
    "In other case, Asja prepares qubit in $x$ basis and Eve measures in $+$ basis, again she randomly measure $ \\lvert 0 \\rangle $ or $ \\lvert 1 \\rangle $ and send them to Balvis in $+$ basis. Balvis make measurenments in $x$ basis and for both situations he gets random results.\n",
    "\n",
    "So probabilty Asja and Balvis make different measurenments if Eve involves is $\\frac{1}{2}*\\frac{1}{2}=\\frac{1}{4}$, probabilty Eve choose incorrect basis times probabilty Balvis' measurenment is different then Asja's initial bit. \n",
    "So probabilty Asja and Balvis don't notice Eve if she listens them and test $n$ of $2n$ bits they agree on is $1-(\\frac{3}{4})^n$ which is greater than $0.999999999$ after $n>72$"
   ]
  },
  {
   "cell_type": "code",
   "execution_count": null,
   "metadata": {},
   "outputs": [],
   "source": []
  }
 ],
 "metadata": {
  "kernelspec": {
   "display_name": "Python 3",
   "language": "python",
   "name": "python3"
  },
  "language_info": {
   "codemirror_mode": {
    "name": "ipython",
    "version": 3
   },
   "file_extension": ".py",
   "mimetype": "text/x-python",
   "name": "python",
   "nbconvert_exporter": "python",
   "pygments_lexer": "ipython3",
   "version": "3.7.4"
  }
 },
 "nbformat": 4,
 "nbformat_minor": 2
}
